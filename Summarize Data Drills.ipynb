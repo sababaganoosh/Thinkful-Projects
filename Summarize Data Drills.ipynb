{
 "cells": [
  {
   "cell_type": "code",
   "execution_count": 26,
   "metadata": {},
   "outputs": [
    {
     "name": "stdout",
     "output_type": "stream",
     "text": [
      "The mean is  9.857142857142858 \n",
      "The median is  10.0 \n",
      "The mode is  8 \n",
      "Var:  6.408163265306122 \n",
      "Std:  2.734262327610589 \n",
      "Std Err:  1.0334540197243192\n"
     ]
    }
   ],
   "source": [
    "# Question 1\n",
    "import numpy as np\n",
    "import pandas as pd \n",
    "import statistics\n",
    "# Make a blank data frame.\n",
    "df = pd.DataFrame()\n",
    "\n",
    "# Add columns\n",
    "df['names'] = ['Greg', 'Marcia', 'Peter', 'Jan', 'Bobby', 'Cindy', 'Oliver']\n",
    "df['age'] = [14, 12, 11, 10, 8, 6, 8]\n",
    "\n",
    "#Extract stats\n",
    "mean = np.mean(df['age'])\n",
    "median = np.median(df['age'])\n",
    "mode = statistics.mode(df['age'])\n",
    "\n",
    "var = np.var(df.age)\n",
    "std = np.std(df['age'], ddof=1)\n",
    "std_err = std / np.sqrt(len(df['age']))\n",
    "\n",
    "#print(\"The mean is {}\".format(mean)) \n",
    "print('The mean is ',mean,'\\nThe median is ',median, '\\nThe mode is ', mode, '\\nVar: ', var, '\\nStd: ', std, '\\nStd Err: ', std_err)\n",
    "\n"
   ]
  },
  {
   "cell_type": "code",
   "execution_count": null,
   "metadata": {},
   "outputs": [],
   "source": [
    "# Question 2\n",
    "# I would choose Mean and Standard Deviation becausethey are used to calculate many useful metrics."
   ]
  },
  {
   "cell_type": "code",
   "execution_count": 25,
   "metadata": {},
   "outputs": [
    {
     "name": "stdout",
     "output_type": "stream",
     "text": [
      "The mean is  10.0 \n",
      "The median is  10.0 \n",
      "The mode is  8 \n",
      "Var:  5.428571428571429 \n",
      "Std:  2.516611478423583 \n",
      "Std Err:  0.9511897312113418\n"
     ]
    }
   ],
   "source": [
    "# Question 3\n",
    "df['names'] = ['Greg', 'Marcia', 'Peter', 'Jan', 'Bobby', 'Cindy', 'Oliver']\n",
    "df['age'] = [14, 12, 11, 10, 8, 7, 8]\n",
    "\n",
    "#Extract stats\n",
    "mean = np.mean(df['age'])\n",
    "median = np.median(df['age'])\n",
    "mode = statistics.mode(df['age'])\n",
    "\n",
    "var = np.var(df.age)\n",
    "std = np.std(df['age'], ddof=1)\n",
    "std_err = std / np.sqrt(len(df['age']))\n",
    "\n",
    "#print(\"The mean is {}\".format(mean)) \n",
    "print('The mean is ',mean,'\\nThe median is ',median, '\\nThe mode is ', mode, '\\nVar: ', var, '\\nStd: ', std, '\\nStd Err: ', std_err)\n",
    "\n",
    "# Answer - The mean increased and all variance metrics decreased "
   ]
  },
  {
   "cell_type": "code",
   "execution_count": 30,
   "metadata": {},
   "outputs": [
    {
     "name": "stdout",
     "output_type": "stream",
     "text": [
      "The mean is  9.0 \n",
      "The median is  10.0 \n",
      "Var:  15.428571428571429 \n",
      "Std:  4.242640687119285 \n",
      "Std Err:  1.6035674514745462\n"
     ]
    }
   ],
   "source": [
    "# Question 4\n",
    "df['names'] = ['Greg', 'Marcia', 'Peter', 'Jan', 'Bobby', 'Cindy', 'Jessica']\n",
    "df['age'] = [14, 12, 11, 10, 8, 7, 1]\n",
    "\n",
    "#Extract stats\n",
    "mean = np.mean(df['age'])\n",
    "median = np.median(df['age'])        \n",
    "\n",
    "var = np.var(df.age)\n",
    "std = np.std(df['age'], ddof=1)\n",
    "std_err = std / np.sqrt(len(df['age']))\n",
    "\n",
    "#print(\"The mean is {}\".format(mean)) \n",
    "print('The mean is ',mean,'\\nThe median is ',median, '\\nVar: ', var, '\\nStd: ', std, '\\nStd Err: ', std_err)\n",
    "\n",
    "# Answer - I would choose median over mean now since there is a large outlier affecting the mean."
   ]
  },
  {
   "cell_type": "code",
   "execution_count": null,
   "metadata": {},
   "outputs": [],
   "source": [
    "# Question 5 \n",
    "# Answer - I would estimate 20% since TV Guide probaably has the least segmented sample demographic\n",
    "# Due to not having info on sample sizes and the niche customer base of some of \n",
    "# these publication, an average will not be helpful"
   ]
  }
 ],
 "metadata": {
  "kernelspec": {
   "display_name": "Python 3",
   "language": "python",
   "name": "python3"
  },
  "language_info": {
   "codemirror_mode": {
    "name": "ipython",
    "version": 3
   },
   "file_extension": ".py",
   "mimetype": "text/x-python",
   "name": "python",
   "nbconvert_exporter": "python",
   "pygments_lexer": "ipython3",
   "version": "3.7.1"
  }
 },
 "nbformat": 4,
 "nbformat_minor": 2
}
